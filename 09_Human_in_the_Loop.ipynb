{
  "nbformat": 4,
  "nbformat_minor": 0,
  "metadata": {
    "colab": {
      "provenance": [],
      "authorship_tag": "ABX9TyPH+rU4RDKrdXNcZxOc0c4p",
      "include_colab_link": true
    },
    "kernelspec": {
      "name": "python3",
      "display_name": "Python 3"
    },
    "language_info": {
      "name": "python"
    }
  },
  "cells": [
    {
      "cell_type": "markdown",
      "metadata": {
        "id": "view-in-github",
        "colab_type": "text"
      },
      "source": [
        "<a href=\"https://colab.research.google.com/github/kaniarasann/AI-Expert-Roadmap/blob/main/09_Human_in_the_Loop.ipynb\" target=\"_parent\"><img src=\"https://colab.research.google.com/assets/colab-badge.svg\" alt=\"Open In Colab\"/></a>"
      ]
    },
    {
      "cell_type": "code",
      "execution_count": 137,
      "metadata": {
        "id": "hYlbfSJAtY9_"
      },
      "outputs": [],
      "source": [
        "#!pip install langchain langgraph langchain_groq pydantic"
      ]
    },
    {
      "cell_type": "code",
      "source": [
        "from typing import Annotated, List,Literal\n",
        "from pydantic import BaseModel, Field\n",
        "import operator\n",
        "from langchain_groq import ChatGroq\n",
        "from langchain_core.prompts import PromptTemplate\n",
        "from langchain_core.messages import HumanMessage, AIMessage, SystemMessage, BaseMessage\n",
        "from langgraph.constants import Send\n",
        "from langgraph.graph import StateGraph, START, END, MessagesState\n",
        "from langchain_groq import ChatGroq\n",
        "from langgraph.prebuilt import ToolNode,tools_condition\n",
        "from IPython.display import display, Image\n",
        "from google.colab import userdata\n",
        "from langgraph.checkpoint.memory import MemorySaver\n",
        "import pprint\n",
        "\n",
        "groq_key = userdata.get('groq_key')"
      ],
      "metadata": {
        "id": "wZkJQQKiuBej"
      },
      "execution_count": 138,
      "outputs": []
    },
    {
      "cell_type": "code",
      "source": [
        "llm = ChatGroq(api_key=groq_key, model=\"moonshotai/kimi-k2-instruct\",)"
      ],
      "metadata": {
        "id": "zMWkKQxYu7mL"
      },
      "execution_count": 139,
      "outputs": []
    },
    {
      "cell_type": "code",
      "source": [
        "def sum_two_number(a: int, b: int) -> int:\n",
        "  \"\"\"Sum two numbers\n",
        "     args\n",
        "     a: int\n",
        "     b: int\n",
        "     return: int\n",
        "  \"\"\"\n",
        "  return a + b"
      ],
      "metadata": {
        "id": "TDxlX4Ayu-P-"
      },
      "execution_count": 140,
      "outputs": []
    },
    {
      "cell_type": "code",
      "source": [
        "def subract_two_number(a: int, b: int) -> int:\n",
        "  \"\"\"Subract two numbers\n",
        "     args\n",
        "     a: int\n",
        "     b: int\n",
        "     return: int\n",
        "  \"\"\"\n",
        "  return a - b"
      ],
      "metadata": {
        "id": "dijWKTNl9GPa"
      },
      "execution_count": 141,
      "outputs": []
    },
    {
      "cell_type": "code",
      "source": [
        "llm_tool_calling = llm.bind_tools([sum_two_number,subract_two_number])"
      ],
      "metadata": {
        "id": "fOUuJxma9Wis"
      },
      "execution_count": 142,
      "outputs": []
    },
    {
      "cell_type": "code",
      "source": [
        "def assistant(state:MessagesState):\n",
        "  template = SystemMessage(content=\"Your are a helpful assistant tasked with perfoming subraction and addition on the given inputs\")\n",
        "  res = llm_tool_calling.invoke([template])+state['messages']\n",
        "  return {\"message\":[res]}\n"
      ],
      "metadata": {
        "id": "9-OexHEZ_5h_"
      },
      "execution_count": 143,
      "outputs": []
    },
    {
      "cell_type": "code",
      "source": [
        "graph = StateGraph(MessagesState)"
      ],
      "metadata": {
        "id": "VChMlb1n_YgS"
      },
      "execution_count": 144,
      "outputs": []
    },
    {
      "cell_type": "code",
      "source": [
        "graph.add_node(\"llm\",assistant)\n",
        "graph.add_node(\"tools\",ToolNode([sum_two_number,subract_two_number]))\n",
        "\n",
        "graph.add_edge(START,\"llm\")\n",
        "graph.add_conditional_edges(\"llm\",tools_condition)\n",
        "graph.add_edge(\"tools\",\"llm\")\n",
        "graph.add_edge(\"llm\",END)"
      ],
      "metadata": {
        "colab": {
          "base_uri": "https://localhost:8080/"
        },
        "id": "4_ASWVXO_duV",
        "outputId": "61b58533-42f8-4d78-f85a-ac6c9f24a702"
      },
      "execution_count": 145,
      "outputs": [
        {
          "output_type": "execute_result",
          "data": {
            "text/plain": [
              "<langgraph.graph.state.StateGraph at 0x7b0505219490>"
            ]
          },
          "metadata": {},
          "execution_count": 145
        }
      ]
    },
    {
      "cell_type": "code",
      "source": [
        "checkpointer = MemorySaver()\n",
        "graph_builder = graph.compile(checkpointer=checkpointer,interrupt_before=[\"llm\"])"
      ],
      "metadata": {
        "id": "OlgWyS-BGaa0"
      },
      "execution_count": 146,
      "outputs": []
    },
    {
      "cell_type": "code",
      "source": [
        "display(Image(graph_builder.get_graph().draw_mermaid_png()))"
      ],
      "metadata": {
        "colab": {
          "base_uri": "https://localhost:8080/",
          "height": 308
        },
        "id": "-MkeFEa5GngB",
        "outputId": "ae6e0058-5b4a-4752-b950-05f0d49797dc"
      },
      "execution_count": 147,
      "outputs": [
        {
          "output_type": "display_data",
          "data": {
            "image/png": "[encoded data removed]",
            "text/plain": [
              "<IPython.core.display.Image object>"
            ]
          },
          "metadata": {}
        }
      ]
    },
    {
      "cell_type": "code",
      "source": [
        "config = {\"configurable\": {\"thread_id\": \"1\"}}"
      ],
      "metadata": {
        "id": "Jep_iE01HYL1"
      },
      "execution_count": 148,
      "outputs": []
    },
    {
      "cell_type": "code",
      "source": [
        "for event in graph_builder.stream({\"messages\":HumanMessage(content=\"Multiply 2 and 3\")},config,stream_mode=\"values\"):\n",
        "  pprint.pprint(event['messages'])"
      ],
      "metadata": {
        "colab": {
          "base_uri": "https://localhost:8080/"
        },
        "id": "ki8xNgSHHZhr",
        "outputId": "b0927e36-d794-4e62-f997-f487046df62e"
      },
      "execution_count": 150,
      "outputs": [
        {
          "output_type": "stream",
          "name": "stdout",
          "text": [
            "[HumanMessage(content='Multiply 2 and 3', additional_kwargs={}, response_metadata={}, id='196f7258-a9b2-41f9-bff4-c27eb594319a'),\n",
            " HumanMessage(content='Multiply 2 and 3', additional_kwargs={}, response_metadata={}, id='89d2e0f0-77c2-4528-a609-d5fe8610e721')]\n"
          ]
        }
      ]
    },
    {
      "cell_type": "code",
      "source": [],
      "metadata": {
        "id": "nxkJYWO1Isu3"
      },
      "execution_count": 149,
      "outputs": []
    }
  ]
}
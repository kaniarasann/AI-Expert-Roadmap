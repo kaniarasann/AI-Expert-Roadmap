{
  "cells": [
    {
      "cell_type": "markdown",
      "metadata": {
        "id": "view-in-github",
        "colab_type": "text"
      },
      "source": [
        "<a href=\"https://colab.research.google.com/github/kaniarasann/AI-Expert-Roadmap/blob/main/02_numply_slicing.ipynb\" target=\"_parent\"><img src=\"https://colab.research.google.com/assets/colab-badge.svg\" alt=\"Open In Colab\"/></a>"
      ]
    },
    {
      "cell_type": "markdown",
      "source": [
        "slicing"
      ],
      "metadata": {
        "id": "vW36LSS-03f4"
      },
      "id": "vW36LSS-03f4"
    },
    {
      "cell_type": "code",
      "execution_count": null,
      "id": "6912ff4e",
      "metadata": {
        "vscode": {
          "languageId": "plaintext"
        },
        "id": "6912ff4e"
      },
      "outputs": [],
      "source": [
        "import numpy as np"
      ]
    },
    {
      "cell_type": "code",
      "execution_count": null,
      "id": "73e636ee",
      "metadata": {
        "vscode": {
          "languageId": "plaintext"
        },
        "id": "73e636ee"
      },
      "outputs": [],
      "source": [
        "array_a = np.array([1,2,3,4,5,6,7,8,9,10])\n",
        "array_b = np.array([[1,2,3,4,5],[6,7,8,9,10]])"
      ]
    },
    {
      "cell_type": "markdown",
      "source": [
        "Basic Slicing"
      ],
      "metadata": {
        "id": "DBlehrSF1NSd"
      },
      "id": "DBlehrSF1NSd"
    },
    {
      "cell_type": "code",
      "execution_count": null,
      "id": "6b8c6ea1",
      "metadata": {
        "vscode": {
          "languageId": "plaintext"
        },
        "id": "6b8c6ea1",
        "outputId": "79ee2416-c98e-4429-b631-7be1428f635c",
        "colab": {
          "base_uri": "https://localhost:8080/"
        }
      },
      "outputs": [
        {
          "output_type": "execute_result",
          "data": {
            "text/plain": [
              "array([[ 1,  2,  3,  4,  5],\n",
              "       [ 6,  7,  8,  9, 10]])"
            ]
          },
          "metadata": {},
          "execution_count": 4
        }
      ],
      "source": [
        "array_b[:]"
      ]
    },
    {
      "cell_type": "code",
      "execution_count": null,
      "id": "a482d4ef",
      "metadata": {
        "vscode": {
          "languageId": "plaintext"
        },
        "id": "a482d4ef",
        "outputId": "d84b138d-de9c-4f99-d150-c3febaca39e5",
        "colab": {
          "base_uri": "https://localhost:8080/"
        }
      },
      "outputs": [
        {
          "output_type": "execute_result",
          "data": {
            "text/plain": [
              "array([], shape=(0, 5), dtype=int64)"
            ]
          },
          "metadata": {},
          "execution_count": 5
        }
      ],
      "source": [
        "array_b[0:0]"
      ]
    },
    {
      "cell_type": "code",
      "execution_count": null,
      "id": "50710905",
      "metadata": {
        "vscode": {
          "languageId": "plaintext"
        },
        "id": "50710905",
        "outputId": "de975958-887a-4dae-954e-8c6cd8f0fede",
        "colab": {
          "base_uri": "https://localhost:8080/"
        }
      },
      "outputs": [
        {
          "output_type": "execute_result",
          "data": {
            "text/plain": [
              "array([[1, 2, 3, 4, 5]])"
            ]
          },
          "metadata": {},
          "execution_count": 6
        }
      ],
      "source": [
        "array_b[0:1]"
      ]
    },
    {
      "cell_type": "code",
      "execution_count": null,
      "id": "729226ce",
      "metadata": {
        "vscode": {
          "languageId": "plaintext"
        },
        "id": "729226ce",
        "outputId": "c2430aa0-84c6-4a8b-88f7-8b6e3004c6bc",
        "colab": {
          "base_uri": "https://localhost:8080/"
        }
      },
      "outputs": [
        {
          "output_type": "execute_result",
          "data": {
            "text/plain": [
              "array([[ 1,  2,  3,  4,  5],\n",
              "       [ 6,  7,  8,  9, 10]])"
            ]
          },
          "metadata": {},
          "execution_count": 7
        }
      ],
      "source": [
        "array_b[0:2]"
      ]
    },
    {
      "cell_type": "code",
      "source": [
        "#exludes the first row\n",
        "array_b[:1]"
      ],
      "metadata": {
        "id": "WQ5aak871nER",
        "outputId": "bf258519-2bbf-4c33-854e-c6de009c9394",
        "colab": {
          "base_uri": "https://localhost:8080/"
        }
      },
      "id": "WQ5aak871nER",
      "execution_count": null,
      "outputs": [
        {
          "output_type": "execute_result",
          "data": {
            "text/plain": [
              "array([[1, 2, 3, 4, 5]])"
            ]
          },
          "metadata": {},
          "execution_count": 8
        }
      ]
    },
    {
      "cell_type": "code",
      "source": [
        "#exludes the first row\n",
        "array_b[1:]"
      ],
      "metadata": {
        "id": "bLePJiO219Wn",
        "outputId": "7375f5e6-0bd6-4c06-b8e5-2b0c4e4165f6",
        "colab": {
          "base_uri": "https://localhost:8080/"
        }
      },
      "id": "bLePJiO219Wn",
      "execution_count": null,
      "outputs": [
        {
          "output_type": "execute_result",
          "data": {
            "text/plain": [
              "array([[ 6,  7,  8,  9, 10]])"
            ]
          },
          "metadata": {},
          "execution_count": 9
        }
      ]
    },
    {
      "cell_type": "code",
      "source": [
        "array_b[:2]"
      ],
      "metadata": {
        "id": "oY57Q-Bp2jVz",
        "outputId": "2b61fb83-6236-4dc9-b44e-4f1cf40ea3c2",
        "colab": {
          "base_uri": "https://localhost:8080/"
        }
      },
      "id": "oY57Q-Bp2jVz",
      "execution_count": null,
      "outputs": [
        {
          "output_type": "execute_result",
          "data": {
            "text/plain": [
              "array([[ 1,  2,  3,  4,  5],\n",
              "       [ 6,  7,  8,  9, 10]])"
            ]
          },
          "metadata": {},
          "execution_count": 10
        }
      ]
    },
    {
      "cell_type": "code",
      "source": [
        "array_b[:3]"
      ],
      "metadata": {
        "id": "Qi9H6PX727Pd",
        "outputId": "7f400951-8bbe-41d0-8969-df97ca7fdcce",
        "colab": {
          "base_uri": "https://localhost:8080/"
        }
      },
      "id": "Qi9H6PX727Pd",
      "execution_count": null,
      "outputs": [
        {
          "output_type": "execute_result",
          "data": {
            "text/plain": [
              "array([[ 1,  2,  3,  4,  5],\n",
              "       [ 6,  7,  8,  9, 10]])"
            ]
          },
          "metadata": {},
          "execution_count": 11
        }
      ]
    },
    {
      "cell_type": "code",
      "source": [
        "#nagative index\n",
        "array_b[-1:]"
      ],
      "metadata": {
        "id": "MGLSV4-M3DQs",
        "outputId": "c3f5574b-3961-4eb7-d0a0-34469cc3090d",
        "colab": {
          "base_uri": "https://localhost:8080/"
        }
      },
      "id": "MGLSV4-M3DQs",
      "execution_count": null,
      "outputs": [
        {
          "output_type": "execute_result",
          "data": {
            "text/plain": [
              "array([[ 6,  7,  8,  9, 10]])"
            ]
          },
          "metadata": {},
          "execution_count": 12
        }
      ]
    },
    {
      "cell_type": "code",
      "source": [
        "array_b[:-1]"
      ],
      "metadata": {
        "id": "13Bgw9ao3woH",
        "outputId": "4c2201e3-c8b1-49ad-e2a1-30a630a3a0af",
        "colab": {
          "base_uri": "https://localhost:8080/"
        }
      },
      "id": "13Bgw9ao3woH",
      "execution_count": null,
      "outputs": [
        {
          "output_type": "execute_result",
          "data": {
            "text/plain": [
              "array([[1, 2, 3, 4, 5]])"
            ]
          },
          "metadata": {},
          "execution_count": 13
        }
      ]
    },
    {
      "cell_type": "code",
      "source": [
        "#column slicing\n",
        "array_b[:,1]"
      ],
      "metadata": {
        "id": "_iIR6-WL31pt",
        "outputId": "deef220e-627c-4a49-a91c-f5f438a8579c",
        "colab": {
          "base_uri": "https://localhost:8080/"
        }
      },
      "id": "_iIR6-WL31pt",
      "execution_count": null,
      "outputs": [
        {
          "output_type": "execute_result",
          "data": {
            "text/plain": [
              "array([2, 7])"
            ]
          },
          "metadata": {},
          "execution_count": 14
        }
      ]
    },
    {
      "cell_type": "code",
      "source": [
        "array_b[1:,1:]"
      ],
      "metadata": {
        "id": "QPVD5KJH4Ehk",
        "outputId": "5429d185-a731-445a-f74c-533d53964bb2",
        "colab": {
          "base_uri": "https://localhost:8080/"
        }
      },
      "id": "QPVD5KJH4Ehk",
      "execution_count": null,
      "outputs": [
        {
          "output_type": "execute_result",
          "data": {
            "text/plain": [
              "array([[ 7,  8,  9, 10]])"
            ]
          },
          "metadata": {},
          "execution_count": 15
        }
      ]
    },
    {
      "cell_type": "code",
      "source": [
        "array_b[0:-1,:-1]"
      ],
      "metadata": {
        "id": "fByYZLLQ4SBK",
        "outputId": "d89dd322-4265-4eba-94f4-9a3a262a7e29",
        "colab": {
          "base_uri": "https://localhost:8080/"
        }
      },
      "id": "fByYZLLQ4SBK",
      "execution_count": null,
      "outputs": [
        {
          "output_type": "execute_result",
          "data": {
            "text/plain": [
              "array([[1, 2, 3, 4]])"
            ]
          },
          "metadata": {},
          "execution_count": 16
        }
      ]
    },
    {
      "cell_type": "markdown",
      "source": [
        "Stepwise Slicing - we take values at certian places apart\n",
        "\n",
        "1.   Step Argument cant be negative\n",
        "2.   [start:stop:step]\n",
        "\n"
      ],
      "metadata": {
        "id": "p5edXYCz0C62"
      },
      "id": "p5edXYCz0C62"
    },
    {
      "cell_type": "code",
      "source": [
        "matrix_3row = np.array([[1,2,3,4,5],[6,7,8,9,10],[11,12,13,14,15]])"
      ],
      "metadata": {
        "id": "TB1cEBt44dnw"
      },
      "id": "TB1cEBt44dnw",
      "execution_count": null,
      "outputs": []
    },
    {
      "cell_type": "code",
      "source": [
        "matrix_3row[::,::]"
      ],
      "metadata": {
        "id": "bLN75Eqk0SkY",
        "outputId": "57b4c87d-0606-40ae-b74f-1b348ee62ff8",
        "colab": {
          "base_uri": "https://localhost:8080/"
        }
      },
      "id": "bLN75Eqk0SkY",
      "execution_count": null,
      "outputs": [
        {
          "output_type": "execute_result",
          "data": {
            "text/plain": [
              "array([[ 1,  2,  3,  4,  5],\n",
              "       [ 6,  7,  8,  9, 10],\n",
              "       [11, 12, 13, 14, 15]])"
            ]
          },
          "metadata": {},
          "execution_count": 18
        }
      ]
    },
    {
      "cell_type": "code",
      "source": [
        "matrix_3row[::2,::2]"
      ],
      "metadata": {
        "id": "SpqbTNnG0o7b",
        "outputId": "7a8fba3a-ac05-47dc-bee7-2f55aa26489a",
        "colab": {
          "base_uri": "https://localhost:8080/"
        }
      },
      "id": "SpqbTNnG0o7b",
      "execution_count": null,
      "outputs": [
        {
          "output_type": "execute_result",
          "data": {
            "text/plain": [
              "array([[ 1,  3,  5],\n",
              "       [11, 13, 15]])"
            ]
          },
          "metadata": {},
          "execution_count": 19
        }
      ]
    },
    {
      "cell_type": "code",
      "source": [
        "#If set step argumanet as negative it starts from the row bottom\n",
        "matrix_3row[::-2]"
      ],
      "metadata": {
        "id": "Dt46C2zc0tOn",
        "outputId": "78b9b72e-bf93-4698-8b5e-b103ca702b34",
        "colab": {
          "base_uri": "https://localhost:8080/"
        }
      },
      "id": "Dt46C2zc0tOn",
      "execution_count": null,
      "outputs": [
        {
          "output_type": "execute_result",
          "data": {
            "text/plain": [
              "array([[11, 12, 13, 14, 15],\n",
              "       [ 1,  2,  3,  4,  5]])"
            ]
          },
          "metadata": {},
          "execution_count": 20
        }
      ]
    },
    {
      "cell_type": "code",
      "source": [
        "#If set step argumanet as negative it starts from the row bottom\n",
        "matrix_3row[::-2,::-2]"
      ],
      "metadata": {
        "id": "U-f6Alpz1W5k",
        "outputId": "72d2d1c2-efb0-4fbb-e4c4-3fa7324d9b01",
        "colab": {
          "base_uri": "https://localhost:8080/"
        }
      },
      "id": "U-f6Alpz1W5k",
      "execution_count": null,
      "outputs": [
        {
          "output_type": "execute_result",
          "data": {
            "text/plain": [
              "array([[15, 13, 11],\n",
              "       [ 5,  3,  1]])"
            ]
          },
          "metadata": {},
          "execution_count": 21
        }
      ]
    },
    {
      "cell_type": "code",
      "source": [
        "matrix_3row[2::-1]"
      ],
      "metadata": {
        "id": "zU0bQS0-1kij",
        "outputId": "9c268ba4-e6f4-45f3-a226-7ec3faad1e73",
        "colab": {
          "base_uri": "https://localhost:8080/"
        }
      },
      "id": "zU0bQS0-1kij",
      "execution_count": null,
      "outputs": [
        {
          "output_type": "execute_result",
          "data": {
            "text/plain": [
              "array([[11, 12, 13, 14, 15],\n",
              "       [ 6,  7,  8,  9, 10],\n",
              "       [ 1,  2,  3,  4,  5]])"
            ]
          },
          "metadata": {},
          "execution_count": 22
        }
      ]
    },
    {
      "cell_type": "markdown",
      "source": [
        "Conditional Slicing\n",
        "\n",
        "it flattens out the whole array in single dimensional"
      ],
      "metadata": {
        "id": "uErxSVXm2avS"
      },
      "id": "uErxSVXm2avS"
    },
    {
      "cell_type": "code",
      "source": [
        "matrix_c = np.array([[1,2,3,4,5],[6,7,8,9,10],[11,12,13,14,15]])"
      ],
      "metadata": {
        "id": "i3Q9xOw42agv"
      },
      "id": "i3Q9xOw42agv",
      "execution_count": null,
      "outputs": []
    },
    {
      "cell_type": "code",
      "source": [
        "matrix_c[matrix_c<5]"
      ],
      "metadata": {
        "colab": {
          "base_uri": "https://localhost:8080/"
        },
        "id": "X1Bq7hjD2aej",
        "outputId": "fe0d2257-44dc-4979-cfdb-56150c820a63"
      },
      "id": "X1Bq7hjD2aej",
      "execution_count": null,
      "outputs": [
        {
          "output_type": "execute_result",
          "data": {
            "text/plain": [
              "array([1, 2, 3, 4])"
            ]
          },
          "metadata": {},
          "execution_count": 25
        }
      ]
    },
    {
      "cell_type": "code",
      "source": [
        "#check in column\n",
        "matrix_c[:,0]>5"
      ],
      "metadata": {
        "colab": {
          "base_uri": "https://localhost:8080/"
        },
        "id": "bTtOM6j_2acl",
        "outputId": "82ed46f8-5d2b-4d0c-8a84-e71ff5113159"
      },
      "id": "bTtOM6j_2acl",
      "execution_count": null,
      "outputs": [
        {
          "output_type": "execute_result",
          "data": {
            "text/plain": [
              "array([False,  True,  True])"
            ]
          },
          "metadata": {},
          "execution_count": 27
        }
      ]
    },
    {
      "cell_type": "code",
      "source": [
        "#using and condition\n",
        "matrix_c[(matrix_c%2 == 0) & (matrix_c>5)]"
      ],
      "metadata": {
        "colab": {
          "base_uri": "https://localhost:8080/"
        },
        "id": "pjj8E3DH2aaL",
        "outputId": "7ad39489-0e5f-45c4-8c82-92d355175b34"
      },
      "id": "pjj8E3DH2aaL",
      "execution_count": null,
      "outputs": [
        {
          "output_type": "execute_result",
          "data": {
            "text/plain": [
              "array([ 6,  8, 10, 12, 14])"
            ]
          },
          "metadata": {},
          "execution_count": 28
        }
      ]
    },
    {
      "cell_type": "code",
      "source": [],
      "metadata": {
        "id": "XucawFqh1r1s"
      },
      "id": "XucawFqh1r1s",
      "execution_count": null,
      "outputs": []
    }
  ],
  "metadata": {
    "language_info": {
      "name": "python"
    },
    "colab": {
      "provenance": [],
      "include_colab_link": true
    },
    "kernelspec": {
      "name": "python3",
      "display_name": "Python 3"
    }
  },
  "nbformat": 4,
  "nbformat_minor": 5
}